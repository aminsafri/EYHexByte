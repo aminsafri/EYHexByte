{
 "cells": [
  {
   "cell_type": "markdown",
   "id": "2138f13d",
   "metadata": {},
   "source": [
    "# Load In Python Packages"
   ]
  },
  {
   "cell_type": "code",
   "execution_count": 3,
   "id": "48047f91",
   "metadata": {},
   "outputs": [
    {
     "name": "stdout",
     "output_type": "stream",
     "text": [
      "Collecting ultralytics\n",
      "  Downloading ultralytics-8.1.14-py3-none-any.whl (715 kB)\n",
      "\u001b[2K     \u001b[90m━━━━━━━━━━━━━━━━━━━━━━━━━━━━━━━━━━━━━━\u001b[0m \u001b[32m715.0/715.0 kB\u001b[0m \u001b[31m19.0 MB/s\u001b[0m eta \u001b[36m0:00:00\u001b[0m00:01\u001b[0m\n",
      "\u001b[?25hRequirement already satisfied: matplotlib>=3.3.0 in /srv/conda/envs/notebook/lib/python3.11/site-packages (from ultralytics) (3.7.1)\n",
      "Requirement already satisfied: numpy>=1.22.2 in /srv/conda/envs/notebook/lib/python3.11/site-packages (from ultralytics) (1.24.3)\n",
      "Collecting opencv-python>=4.6.0 (from ultralytics)\n",
      "  Using cached opencv_python-4.9.0.80-cp37-abi3-manylinux_2_17_x86_64.manylinux2014_x86_64.whl (62.2 MB)\n",
      "Requirement already satisfied: pillow>=7.1.2 in /srv/conda/envs/notebook/lib/python3.11/site-packages (from ultralytics) (9.5.0)\n",
      "Requirement already satisfied: pyyaml>=5.3.1 in /srv/conda/envs/notebook/lib/python3.11/site-packages (from ultralytics) (5.4.1)\n",
      "Requirement already satisfied: requests>=2.23.0 in /srv/conda/envs/notebook/lib/python3.11/site-packages (from ultralytics) (2.31.0)\n",
      "Requirement already satisfied: scipy>=1.4.1 in /srv/conda/envs/notebook/lib/python3.11/site-packages (from ultralytics) (1.10.1)\n",
      "Collecting torch>=1.8.0 (from ultralytics)\n",
      "  Using cached torch-2.2.0-cp311-cp311-manylinux1_x86_64.whl (755.5 MB)\n",
      "Collecting torchvision>=0.9.0 (from ultralytics)\n",
      "  Using cached torchvision-0.17.0-cp311-cp311-manylinux1_x86_64.whl (6.9 MB)\n",
      "Requirement already satisfied: tqdm>=4.64.0 in /srv/conda/envs/notebook/lib/python3.11/site-packages (from ultralytics) (4.65.0)\n",
      "Requirement already satisfied: psutil in /srv/conda/envs/notebook/lib/python3.11/site-packages (from ultralytics) (5.9.5)\n",
      "Collecting py-cpuinfo (from ultralytics)\n",
      "  Using cached py_cpuinfo-9.0.0-py3-none-any.whl (22 kB)\n",
      "Collecting thop>=0.1.1 (from ultralytics)\n",
      "  Using cached thop-0.1.1.post2209072238-py3-none-any.whl (15 kB)\n",
      "Requirement already satisfied: pandas>=1.1.4 in /srv/conda/envs/notebook/lib/python3.11/site-packages (from ultralytics) (2.0.2)\n",
      "Requirement already satisfied: seaborn>=0.11.0 in /srv/conda/envs/notebook/lib/python3.11/site-packages (from ultralytics) (0.12.2)\n",
      "Requirement already satisfied: contourpy>=1.0.1 in /srv/conda/envs/notebook/lib/python3.11/site-packages (from matplotlib>=3.3.0->ultralytics) (1.1.0)\n",
      "Requirement already satisfied: cycler>=0.10 in /srv/conda/envs/notebook/lib/python3.11/site-packages (from matplotlib>=3.3.0->ultralytics) (0.11.0)\n",
      "Requirement already satisfied: fonttools>=4.22.0 in /srv/conda/envs/notebook/lib/python3.11/site-packages (from matplotlib>=3.3.0->ultralytics) (4.40.0)\n",
      "Requirement already satisfied: kiwisolver>=1.0.1 in /srv/conda/envs/notebook/lib/python3.11/site-packages (from matplotlib>=3.3.0->ultralytics) (1.4.4)\n",
      "Requirement already satisfied: packaging>=20.0 in /srv/conda/envs/notebook/lib/python3.11/site-packages (from matplotlib>=3.3.0->ultralytics) (23.1)\n",
      "Requirement already satisfied: pyparsing>=2.3.1 in /srv/conda/envs/notebook/lib/python3.11/site-packages (from matplotlib>=3.3.0->ultralytics) (3.1.0)\n",
      "Requirement already satisfied: python-dateutil>=2.7 in /srv/conda/envs/notebook/lib/python3.11/site-packages (from matplotlib>=3.3.0->ultralytics) (2.8.2)\n",
      "Requirement already satisfied: pytz>=2020.1 in /srv/conda/envs/notebook/lib/python3.11/site-packages (from pandas>=1.1.4->ultralytics) (2023.3)\n",
      "Requirement already satisfied: tzdata>=2022.1 in /srv/conda/envs/notebook/lib/python3.11/site-packages (from pandas>=1.1.4->ultralytics) (2023.3)\n",
      "Requirement already satisfied: charset-normalizer<4,>=2 in /srv/conda/envs/notebook/lib/python3.11/site-packages (from requests>=2.23.0->ultralytics) (3.1.0)\n",
      "Requirement already satisfied: idna<4,>=2.5 in /srv/conda/envs/notebook/lib/python3.11/site-packages (from requests>=2.23.0->ultralytics) (3.4)\n",
      "Requirement already satisfied: urllib3<3,>=1.21.1 in /srv/conda/envs/notebook/lib/python3.11/site-packages (from requests>=2.23.0->ultralytics) (1.26.15)\n",
      "Requirement already satisfied: certifi>=2017.4.17 in /srv/conda/envs/notebook/lib/python3.11/site-packages (from requests>=2.23.0->ultralytics) (2023.5.7)\n",
      "Requirement already satisfied: filelock in /srv/conda/envs/notebook/lib/python3.11/site-packages (from torch>=1.8.0->ultralytics) (3.12.2)\n",
      "Collecting typing-extensions>=4.8.0 (from torch>=1.8.0->ultralytics)\n",
      "  Using cached typing_extensions-4.9.0-py3-none-any.whl (32 kB)\n",
      "Collecting sympy (from torch>=1.8.0->ultralytics)\n",
      "  Using cached sympy-1.12-py3-none-any.whl (5.7 MB)\n",
      "Requirement already satisfied: networkx in /srv/conda/envs/notebook/lib/python3.11/site-packages (from torch>=1.8.0->ultralytics) (3.1)\n",
      "Requirement already satisfied: jinja2 in /srv/conda/envs/notebook/lib/python3.11/site-packages (from torch>=1.8.0->ultralytics) (3.1.2)\n",
      "Requirement already satisfied: fsspec in /srv/conda/envs/notebook/lib/python3.11/site-packages (from torch>=1.8.0->ultralytics) (2023.6.0)\n",
      "Collecting nvidia-cuda-nvrtc-cu12==12.1.105 (from torch>=1.8.0->ultralytics)\n",
      "  Using cached nvidia_cuda_nvrtc_cu12-12.1.105-py3-none-manylinux1_x86_64.whl (23.7 MB)\n",
      "Collecting nvidia-cuda-runtime-cu12==12.1.105 (from torch>=1.8.0->ultralytics)\n",
      "  Using cached nvidia_cuda_runtime_cu12-12.1.105-py3-none-manylinux1_x86_64.whl (823 kB)\n",
      "Collecting nvidia-cuda-cupti-cu12==12.1.105 (from torch>=1.8.0->ultralytics)\n",
      "  Using cached nvidia_cuda_cupti_cu12-12.1.105-py3-none-manylinux1_x86_64.whl (14.1 MB)\n",
      "Collecting nvidia-cudnn-cu12==8.9.2.26 (from torch>=1.8.0->ultralytics)\n",
      "  Using cached nvidia_cudnn_cu12-8.9.2.26-py3-none-manylinux1_x86_64.whl (731.7 MB)\n",
      "Collecting nvidia-cublas-cu12==12.1.3.1 (from torch>=1.8.0->ultralytics)\n",
      "  Using cached nvidia_cublas_cu12-12.1.3.1-py3-none-manylinux1_x86_64.whl (410.6 MB)\n",
      "Collecting nvidia-cufft-cu12==11.0.2.54 (from torch>=1.8.0->ultralytics)\n",
      "  Using cached nvidia_cufft_cu12-11.0.2.54-py3-none-manylinux1_x86_64.whl (121.6 MB)\n",
      "Collecting nvidia-curand-cu12==10.3.2.106 (from torch>=1.8.0->ultralytics)\n",
      "  Using cached nvidia_curand_cu12-10.3.2.106-py3-none-manylinux1_x86_64.whl (56.5 MB)\n",
      "Collecting nvidia-cusolver-cu12==11.4.5.107 (from torch>=1.8.0->ultralytics)\n",
      "  Using cached nvidia_cusolver_cu12-11.4.5.107-py3-none-manylinux1_x86_64.whl (124.2 MB)\n",
      "Collecting nvidia-cusparse-cu12==12.1.0.106 (from torch>=1.8.0->ultralytics)\n",
      "  Using cached nvidia_cusparse_cu12-12.1.0.106-py3-none-manylinux1_x86_64.whl (196.0 MB)\n",
      "Collecting nvidia-nccl-cu12==2.19.3 (from torch>=1.8.0->ultralytics)\n",
      "  Using cached nvidia_nccl_cu12-2.19.3-py3-none-manylinux1_x86_64.whl (166.0 MB)\n",
      "Collecting nvidia-nvtx-cu12==12.1.105 (from torch>=1.8.0->ultralytics)\n",
      "  Using cached nvidia_nvtx_cu12-12.1.105-py3-none-manylinux1_x86_64.whl (99 kB)\n",
      "Collecting triton==2.2.0 (from torch>=1.8.0->ultralytics)\n",
      "  Using cached triton-2.2.0-cp311-cp311-manylinux_2_17_x86_64.manylinux2014_x86_64.whl (167.9 MB)\n",
      "Collecting nvidia-nvjitlink-cu12 (from nvidia-cusolver-cu12==11.4.5.107->torch>=1.8.0->ultralytics)\n",
      "  Using cached nvidia_nvjitlink_cu12-12.3.101-py3-none-manylinux1_x86_64.whl (20.5 MB)\n",
      "Requirement already satisfied: six>=1.5 in /srv/conda/envs/notebook/lib/python3.11/site-packages (from python-dateutil>=2.7->matplotlib>=3.3.0->ultralytics) (1.16.0)\n",
      "Requirement already satisfied: MarkupSafe>=2.0 in /srv/conda/envs/notebook/lib/python3.11/site-packages (from jinja2->torch>=1.8.0->ultralytics) (2.1.3)\n",
      "Collecting mpmath>=0.19 (from sympy->torch>=1.8.0->ultralytics)\n",
      "  Using cached mpmath-1.3.0-py3-none-any.whl (536 kB)\n",
      "Installing collected packages: py-cpuinfo, mpmath, typing-extensions, triton, sympy, opencv-python, nvidia-nvtx-cu12, nvidia-nvjitlink-cu12, nvidia-nccl-cu12, nvidia-curand-cu12, nvidia-cufft-cu12, nvidia-cuda-runtime-cu12, nvidia-cuda-nvrtc-cu12, nvidia-cuda-cupti-cu12, nvidia-cublas-cu12, nvidia-cusparse-cu12, nvidia-cudnn-cu12, nvidia-cusolver-cu12, torch, torchvision, thop, ultralytics\n",
      "  Attempting uninstall: typing-extensions\n",
      "    Found existing installation: typing_extensions 4.6.3\n",
      "    Uninstalling typing_extensions-4.6.3:\n",
      "      Successfully uninstalled typing_extensions-4.6.3\n",
      "\u001b[31mERROR: pip's dependency resolver does not currently take into account all the packages that are installed. This behaviour is the source of the following dependency conflicts.\n",
      "xmip 0.7.1 requires xgcm<0.7.0, but you have xgcm 0.8.1 which is incompatible.\u001b[0m\u001b[31m\n",
      "\u001b[0mSuccessfully installed mpmath-1.3.0 nvidia-cublas-cu12-12.1.3.1 nvidia-cuda-cupti-cu12-12.1.105 nvidia-cuda-nvrtc-cu12-12.1.105 nvidia-cuda-runtime-cu12-12.1.105 nvidia-cudnn-cu12-8.9.2.26 nvidia-cufft-cu12-11.0.2.54 nvidia-curand-cu12-10.3.2.106 nvidia-cusolver-cu12-11.4.5.107 nvidia-cusparse-cu12-12.1.0.106 nvidia-nccl-cu12-2.19.3 nvidia-nvjitlink-cu12-12.3.101 nvidia-nvtx-cu12-12.1.105 opencv-python-4.9.0.80 py-cpuinfo-9.0.0 sympy-1.12 thop-0.1.1.post2209072238 torch-2.2.0 torchvision-0.17.0 triton-2.2.0 typing-extensions-4.9.0 ultralytics-8.1.14\n",
      "Note: you may need to restart the kernel to use updated packages.\n",
      "Collecting opencv-python-headless\n",
      "  Using cached opencv_python_headless-4.9.0.80-cp37-abi3-manylinux_2_17_x86_64.manylinux2014_x86_64.whl (49.6 MB)\n",
      "Requirement already satisfied: numpy>=1.21.2 in /srv/conda/envs/notebook/lib/python3.11/site-packages (from opencv-python-headless) (1.24.3)\n",
      "Installing collected packages: opencv-python-headless\n",
      "Successfully installed opencv-python-headless-4.9.0.80\n",
      "Collecting labelme2yolo\n",
      "  Using cached labelme2yolo-0.1.4-py3-none-any.whl (8.6 kB)\n",
      "Requirement already satisfied: numpy<1.27.0,>=1.23.1 in /srv/conda/envs/notebook/lib/python3.11/site-packages (from labelme2yolo) (1.24.3)\n",
      "Requirement already satisfied: opencv-python>=4.1.2 in /srv/conda/envs/notebook/lib/python3.11/site-packages (from labelme2yolo) (4.9.0.80)\n",
      "Requirement already satisfied: pillow<10.3,>=9.2 in /srv/conda/envs/notebook/lib/python3.11/site-packages (from labelme2yolo) (9.5.0)\n",
      "Installing collected packages: labelme2yolo\n",
      "Successfully installed labelme2yolo-0.1.4\n"
     ]
    }
   ],
   "source": [
    "### Run this cell only once.\n",
    "%pip install ultralytics\n",
    "!pip install opencv-python-headless\n",
    "!pip install labelme2yolo"
   ]
  },
  {
   "cell_type": "code",
   "execution_count": 4,
   "id": "e72b2ec8",
   "metadata": {},
   "outputs": [],
   "source": [
    "# Supress Warnings\n",
    "import warnings\n",
    "warnings.filterwarnings('ignore')\n",
    "\n",
    "# GeoTiff Images\n",
    "import rasterio\n",
    "from osgeo import gdal\n",
    "\n",
    "# Visualisation\n",
    "from matplotlib import pyplot as plt\n",
    "import matplotlib.image as img\n",
    "from matplotlib.pyplot import figure\n",
    "from PIL import Image\n",
    "\n",
    "# Model Building\n",
    "import ultralytics\n",
    "from ultralytics import YOLO\n",
    "import labelme2yolo\n",
    "\n",
    "# Others\n",
    "import os\n",
    "import shutil\n",
    "import zipfile\n",
    "\n",
    "%matplotlib inline"
   ]
  },
  {
   "cell_type": "markdown",
   "id": "86747d69",
   "metadata": {},
   "source": [
    "# Data Importing"
   ]
  },
  {
   "cell_type": "code",
   "execution_count": 5,
   "id": "efa0ff34",
   "metadata": {},
   "outputs": [
    {
     "name": "stdout",
     "output_type": "stream",
     "text": [
      "--2024-02-15 08:05:25--  https://challenge.ey.com/api/v1/storage/admin-files/Pre_Event_San_Juan.tif\n",
      "Resolving challenge.ey.com (challenge.ey.com)... 52.236.158.32\n",
      "Connecting to challenge.ey.com (challenge.ey.com)|52.236.158.32|:443... connected.\n",
      "HTTP request sent, awaiting response... 200 OK\n",
      "Length: 1016993213 (970M) [application/octet-stream]\n",
      "Saving to: ‘Pre_Event_San_Juan.tif’\n",
      "\n",
      "Pre_Event_San_Juan. 100%[===================>] 969.88M  49.2MB/s    in 19s     \n",
      "\n",
      "2024-02-15 08:05:52 (51.1 MB/s) - ‘Pre_Event_San_Juan.tif’ saved [1016993213/1016993213]\n",
      "\n",
      "--2024-02-15 08:05:58--  https://challenge.ey.com/api/v1/storage/admin-files/Post_Event_San_Juan.tif\n",
      "Resolving challenge.ey.com (challenge.ey.com)... 52.236.158.32\n",
      "Connecting to challenge.ey.com (challenge.ey.com)|52.236.158.32|:443... connected.\n",
      "HTTP request sent, awaiting response... 200 OK\n",
      "Length: 1310494499 (1.2G) [application/octet-stream]\n",
      "Saving to: ‘Post_Event_San_Juan.tif’\n",
      "\n",
      "Post_Event_San_Juan 100%[===================>]   1.22G  55.2MB/s    in 24s     \n",
      "\n",
      "2024-02-15 08:06:33 (51.6 MB/s) - ‘Post_Event_San_Juan.tif’ saved [1310494499/1310494499]\n",
      "\n"
     ]
    }
   ],
   "source": [
    "!wget https://challenge.ey.com/api/v1/storage/admin-files/Pre_Event_San_Juan.tif -O Pre_Event_San_Juan.tif\n",
    "!wget https://challenge.ey.com/api/v1/storage/admin-files/Post_Event_San_Juan.tif -O Post_Event_San_Juan.tif"
   ]
  },
  {
   "cell_type": "code",
   "execution_count": 6,
   "id": "f52735cf",
   "metadata": {},
   "outputs": [],
   "source": [
    "pre_event_image = './Pre_Event_San_Juan.tif'\n",
    "post_event_image ='./Post_Event_San_Juan.tif'"
   ]
  },
  {
   "cell_type": "markdown",
   "id": "c36cd8bc",
   "metadata": {},
   "source": [
    "# Image Visualization"
   ]
  },
  {
   "cell_type": "code",
   "execution_count": 7,
   "id": "e3314cd1",
   "metadata": {},
   "outputs": [],
   "source": [
    "# Open the geotiff file\n",
    "def load_and_visualize(image_path):\n",
    "    with rasterio.open(image_path) as src:\n",
    "        # read the red, green and blue bands\n",
    "        red = src.read(1)\n",
    "        green = src.read(2)\n",
    "        blue = src.read(3)\n",
    "    # Plot the bands\n",
    "    fig, (ax1, ax2, ax3) = plt.subplots(1, 3, figsize=(20, 5))\n",
    "    ax1.imshow(red,cmap='Reds')\n",
    "    ax1.set_title('Red Band')\n",
    "    ax2.imshow(green, cmap='Greens')\n",
    "    ax2.set_title('Green Band')\n",
    "    ax3.imshow(blue, cmap='Blues')\n",
    "    ax3.set_title('Blue Band')\n",
    "plt.show()"
   ]
  },
  {
   "cell_type": "code",
   "execution_count": null,
   "id": "80ade060",
   "metadata": {},
   "outputs": [],
   "source": [
    "load_and_visualize(pre_event_image)"
   ]
  }
 ],
 "metadata": {
  "kernelspec": {
   "display_name": "Python 3 (ipykernel)",
   "language": "python",
   "name": "python3"
  }
 },
 "nbformat": 4,
 "nbformat_minor": 5
}
