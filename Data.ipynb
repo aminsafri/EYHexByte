{
 "cells": [
  {
   "cell_type": "markdown",
   "id": "45483cbd",
   "metadata": {},
   "source": [
    "# <title>Library and Dependency Load In</title>"
   ]
  }
 ],
 "metadata": {
  "kernelspec": {
   "display_name": "Python 3",
   "language": "python",
   "name": "python3"
  },
  "language_info": {
   "codemirror_mode": {
    "name": "ipython",
    "version": 3
   },
   "file_extension": ".py",
   "mimetype": "text/x-python",
   "name": "python",
   "nbconvert_exporter": "python",
   "pygments_lexer": "ipython3",
   "version": "3.12.1"
  }
 },
 "nbformat": 4,
 "nbformat_minor": 5
}
